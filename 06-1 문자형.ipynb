{
 "cells": [
  {
   "cell_type": "markdown",
   "metadata": {},
   "source": [
    "# 문자형\n",
    "## 선언"
   ]
  },
  {
   "cell_type": "code",
   "execution_count": 86,
   "metadata": {},
   "outputs": [
    {
     "name": "stdout",
     "output_type": "stream",
     "text": [
      "Hello, World\n",
      "\n",
      "Hello, World\n",
      "Hello, Python\n",
      "\n"
     ]
    }
   ],
   "source": [
    "first = \"Hello, World\"\n",
    "print(first)\n",
    "\n",
    "multi = \"\"\"\n",
    "Hello, World\n",
    "Hello, Python\n",
    "\"\"\"\n",
    "print(multi)"
   ]
  },
  {
   "cell_type": "markdown",
   "metadata": {},
   "source": [
    "## 문자열 연산"
   ]
  },
  {
   "cell_type": "code",
   "execution_count": 87,
   "metadata": {},
   "outputs": [
    {
     "name": "stdout",
     "output_type": "stream",
     "text": [
      "과일사과\n",
      "과일과일과일사과사과사과\n"
     ]
    }
   ],
   "source": [
    "first = \"과일\"\n",
    "second = \"사과\"\n",
    "\n",
    "print(first + second)\n",
    "print(first * 3 + second * 3)"
   ]
  },
  {
   "cell_type": "markdown",
   "metadata": {},
   "source": [
    "## 함수소개"
   ]
  },
  {
   "cell_type": "markdown",
   "metadata": {},
   "source": [
    "### 문자길이"
   ]
  },
  {
   "cell_type": "code",
   "execution_count": 88,
   "metadata": {},
   "outputs": [
    {
     "name": "stdout",
     "output_type": "stream",
     "text": [
      "12\n"
     ]
    }
   ],
   "source": [
    "word = \"apple banana\"\n",
    "\n",
    "print(len(word))"
   ]
  },
  {
   "cell_type": "markdown",
   "metadata": {},
   "source": [
    "### 문자열 바꾸기"
   ]
  },
  {
   "cell_type": "code",
   "execution_count": 89,
   "metadata": {},
   "outputs": [
    {
     "name": "stdout",
     "output_type": "stream",
     "text": [
      "orange banana\n"
     ]
    }
   ],
   "source": [
    "word = word.replace(\"apple\", \"orange\")\n",
    "print(word)"
   ]
  },
  {
   "cell_type": "markdown",
   "metadata": {},
   "source": [
    "### 문자 바꾸기"
   ]
  },
  {
   "cell_type": "code",
   "execution_count": 90,
   "metadata": {},
   "outputs": [
    {
     "name": "stdout",
     "output_type": "stream",
     "text": [
      "1rang2 banana\n"
     ]
    }
   ],
   "source": [
    "trans = str.maketrans(\"oe\" , \"12\")\n",
    "word = word.translate(trans)\n",
    "print(word)"
   ]
  },
  {
   "cell_type": "markdown",
   "metadata": {},
   "source": [
    "### 대소문자 변경"
   ]
  },
  {
   "cell_type": "code",
   "execution_count": 91,
   "metadata": {
    "scrolled": true
   },
   "outputs": [
    {
     "name": "stdout",
     "output_type": "stream",
     "text": [
      "1RANG2 BANANA\n",
      "1rang2 banana\n"
     ]
    }
   ],
   "source": [
    "print(word.upper())\n",
    "print(word.lower())"
   ]
  },
  {
   "cell_type": "markdown",
   "metadata": {},
   "source": [
    "### 서식지정자"
   ]
  },
  {
   "cell_type": "code",
   "execution_count": 97,
   "metadata": {},
   "outputs": [
    {
     "name": "stdout",
     "output_type": "stream",
     "text": [
      "I am tom!\n",
      "I am tom!\n",
      "I am        tom!\n",
      "I am tom       !\n",
      "I like apple banana \n",
      "n1 = 3, n2 = 3.232300\n",
      "n2 = 3.23\n",
      "n2 = 3.23\n",
      "n2 = 0003.23\n"
     ]
    }
   ],
   "source": [
    "# + 연산을 이용\n",
    "name = \"tom\"\n",
    "print(\"I am \" + name + \"!\")\n",
    "\n",
    "# 서식지정자 사용\n",
    "print(\"I am %s!\" % name)\n",
    "\n",
    "# 공백추가\n",
    "print(\"I am %10s!\" % name)\n",
    "print(\"I am %-10s!\" % name)\n",
    "\n",
    "# 여러개의 추가문자\n",
    "f1, f2 = \"apple\", \"banana\"\n",
    "print(\"I like %s %s \" % (f1, f2))\n",
    "\n",
    "# 숫자형\n",
    "n1, n2 = 3, 3.2323\n",
    "print(\"n1 = %d, n2 = %f\" % (n1, n2))\n",
    "\n",
    "# 소수점 이하 자리수\n",
    "print(\"n2 = %.2f\" % n2)\n",
    "print(\"n2 = %.2f\" % n2)\n",
    "\n",
    "# 숫자개수 맞추기\n",
    "print(\"n2 = %07.2f\"% n2)"
   ]
  },
  {
   "cell_type": "markdown",
   "metadata": {},
   "source": [
    "### Format 함수"
   ]
  },
  {
   "cell_type": "code",
   "execution_count": 3,
   "metadata": {
    "scrolled": true
   },
   "outputs": [
    {
     "name": "stdout",
     "output_type": "stream",
     "text": [
      "I like apple, banana !!\n",
      "Number 1, 3, 2 !!\n",
      "Number 1, 1, 2 !!\n",
      "Number 1, 2, 3 !!\n",
      "\n",
      "I like apple, banana !!\n",
      "I like apple, banana !!\n",
      "Number    1!\n",
      "Number 1   !\n",
      "Number 0001!\n",
      "Number aaa1!\n",
      "Number 00100!\n"
     ]
    }
   ],
   "source": [
    "print(\"I like {0}, {1} !!\".format(\"apple\",\"banana\"))\n",
    "print(\"Number {0}, {2}, {1} !!\".format(1, 2, 3))\n",
    "print(\"Number {0}, {0}, {1} !!\".format(1, 2, 3))\n",
    "print(\"Number {}, {}, {} !!\".format(1, 2, 3))\n",
    "print()\n",
    "\n",
    "f1, f2 = \"apple\", \"banana\"\n",
    "print(\"I like {0}, {1} !!\".format(f1, f2))\n",
    "\n",
    "f3 = \"I like {0}, {1} !!\".format(f1, f2)\n",
    "print(f3)\n",
    "\n",
    "print(\"Number {0:>4}!\".format(1))\n",
    "print(\"Number {0:<4}!\".format(1))\n",
    "print(\"Number {0:0>4}!\".format(1))\n",
    "print(\"Number {0:a>4}!\".format(1))\n",
    "print(\"Number {0:0^5}!\".format(1))"
   ]
  },
  {
   "cell_type": "code",
   "execution_count": null,
   "metadata": {},
   "outputs": [],
   "source": []
  }
 ],
 "metadata": {
  "kernelspec": {
   "display_name": "Python 3",
   "language": "python",
   "name": "python3"
  },
  "language_info": {
   "codemirror_mode": {
    "name": "ipython",
    "version": 3
   },
   "file_extension": ".py",
   "mimetype": "text/x-python",
   "name": "python",
   "nbconvert_exporter": "python",
   "pygments_lexer": "ipython3",
   "version": "3.7.1"
  }
 },
 "nbformat": 4,
 "nbformat_minor": 2
}
