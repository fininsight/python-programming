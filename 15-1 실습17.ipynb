{
 "cells": [
  {
   "cell_type": "code",
   "execution_count": 9,
   "metadata": {},
   "outputs": [
    {
     "data": {
      "text/plain": [
       "-13"
      ]
     },
     "execution_count": 9,
     "metadata": {},
     "output_type": "execute_result"
    }
   ],
   "source": [
    "def calc(op, *args):\n",
    "    \n",
    "    result = args[0]\n",
    "    \n",
    "    if op == \"+\":\n",
    "        \n",
    "        return sum(args)\n",
    "    \n",
    "    elif op == \"-\":   \n",
    "        \n",
    "        for i in args[1:]:\n",
    "            result -= i\n",
    "        return result        \n",
    "        \n",
    "    elif op == \"*\":\n",
    "        \n",
    "        for i in args[1:]:\n",
    "            result *= i\n",
    "        return result    \n",
    "        \n",
    "    \n",
    "    print(op, args)\n",
    "\n",
    "calc(\"-\", 1, 2, 3, 4, 5)"
   ]
  },
  {
   "cell_type": "code",
   "execution_count": null,
   "metadata": {},
   "outputs": [],
   "source": []
  }
 ],
 "metadata": {
  "kernelspec": {
   "display_name": "Python 3",
   "language": "python",
   "name": "python3"
  },
  "language_info": {
   "codemirror_mode": {
    "name": "ipython",
    "version": 3
   },
   "file_extension": ".py",
   "mimetype": "text/x-python",
   "name": "python",
   "nbconvert_exporter": "python",
   "pygments_lexer": "ipython3",
   "version": "3.7.1"
  }
 },
 "nbformat": 4,
 "nbformat_minor": 2
}
