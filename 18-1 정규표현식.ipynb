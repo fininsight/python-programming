{
 "cells": [
  {
   "cell_type": "markdown",
   "metadata": {},
   "source": [
    "# 정규표현식"
   ]
  },
  {
   "cell_type": "code",
   "execution_count": 12,
   "metadata": {},
   "outputs": [
    {
     "name": "stdout",
     "output_type": "stream",
     "text": [
      "<re.Match object; span=(0, 6), match='orange'>\n"
     ]
    }
   ],
   "source": [
    "import re\n",
    "\n",
    "text = \"orange\"\n",
    "result = re.match(\"orange\", text)\n",
    "print(result)"
   ]
  },
  {
   "cell_type": "code",
   "execution_count": 13,
   "metadata": {},
   "outputs": [
    {
     "name": "stdout",
     "output_type": "stream",
     "text": [
      "<re.Match object; span=(6, 12), match='orange'>\n"
     ]
    }
   ],
   "source": [
    "text = \"It is orange\"\n",
    "result = re.search(\"orange\", text)\n",
    "print(result)"
   ]
  },
  {
   "cell_type": "markdown",
   "metadata": {},
   "source": [
    "### 정규표현식 ^, $"
   ]
  },
  {
   "cell_type": "code",
   "execution_count": 69,
   "metadata": {},
   "outputs": [
    {
     "name": "stdout",
     "output_type": "stream",
     "text": [
      "<re.Match object; span=(0, 2), match='It'>\n",
      "None\n",
      "<re.Match object; span=(6, 12), match='orange'>\n"
     ]
    }
   ],
   "source": [
    "text = \"It is orange\"\n",
    "result = re.search(\"^It\", text)\n",
    "print(result)\n",
    "\n",
    "result = re.search(\"^is\", text)\n",
    "print(result)\n",
    "\n",
    "result = re.search(\"orange$\", text)\n",
    "print(result)"
   ]
  },
  {
   "cell_type": "markdown",
   "metadata": {},
   "source": [
    "### 정규표현식 []*, []+"
   ]
  },
  {
   "cell_type": "code",
   "execution_count": 75,
   "metadata": {},
   "outputs": [
    {
     "name": "stdout",
     "output_type": "stream",
     "text": [
      "<re.Match object; span=(0, 11), match='12345678910'>\n",
      "<re.Match object; span=(0, 11), match='12345678910'>\n",
      "None\n",
      "<re.Match object; span=(0, 1), match='b'>\n",
      "None\n",
      "<re.Match object; span=(0, 4), match='aaab'>\n"
     ]
    }
   ],
   "source": [
    "text = \"12345678910\"\n",
    "result = re.match(\"[0-9]*\", text)\n",
    "print(result)\n",
    "\n",
    "result = re.match(\"[0-9]+\", text)\n",
    "print(result)\n",
    "\n",
    "result = re.match(\"[a-z]+\", text)\n",
    "print(result)\n",
    "\n",
    "print(re.match(\"a*b\", \"b\"))\n",
    "print(re.match(\"a+b\", \"b\"))\n",
    "print(re.match(\"a+b\", \"aaab\"))"
   ]
  },
  {
   "cell_type": "markdown",
   "metadata": {},
   "source": [
    "### 문자가 한개있는지 판단 ?, ."
   ]
  },
  {
   "cell_type": "code",
   "execution_count": 77,
   "metadata": {},
   "outputs": [
    {
     "name": "stdout",
     "output_type": "stream",
     "text": [
      "<re.Match object; span=(0, 1), match='A'>\n",
      "None\n",
      "<re.Match object; span=(0, 2), match='AB'>\n"
     ]
    }
   ],
   "source": [
    "print(re.match(\"A?\", \"A\"))\n",
    "print(re.match(\"A.\", \"A\"))\n",
    "print(re.match(\"A.\", \"AB\"))"
   ]
  },
  {
   "cell_type": "code",
   "execution_count": null,
   "metadata": {},
   "outputs": [],
   "source": []
  }
 ],
 "metadata": {
  "kernelspec": {
   "display_name": "Python 3",
   "language": "python",
   "name": "python3"
  },
  "language_info": {
   "codemirror_mode": {
    "name": "ipython",
    "version": 3
   },
   "file_extension": ".py",
   "mimetype": "text/x-python",
   "name": "python",
   "nbconvert_exporter": "python",
   "pygments_lexer": "ipython3",
   "version": "3.7.1"
  }
 },
 "nbformat": 4,
 "nbformat_minor": 2
}
