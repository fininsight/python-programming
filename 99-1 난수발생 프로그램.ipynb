{
 "cells": [
  {
   "cell_type": "code",
   "execution_count": 1,
   "metadata": {},
   "outputs": [
    {
     "data": {
      "text/plain": [
       "0"
      ]
     },
     "execution_count": 1,
     "metadata": {},
     "output_type": "execute_result"
    }
   ],
   "source": [
    "import sys\n",
    "from PyQt5.QtWidgets import *\n",
    "from PyQt5.QtCore import *\n",
    "from PyQt5 import QtWidgets, QtCore, QtGui\n",
    "import random\n",
    "\n",
    "class MyWindow(QMainWindow):\n",
    "    def __init__(self):\n",
    "        super().__init__()\n",
    "        self.setupUI()        \n",
    "        \n",
    "    def setupUI(self):\n",
    "        self.setWindowTitle(\"난수발생기\")\n",
    "        self.setGeometry(300, 300, 300, 300)\n",
    "        \n",
    "        self.label1_1 = QLabel(\"0\", self)\n",
    "        self.label1_1.setFont(QtGui.QFont('SansSerif', 120))\n",
    "        self.label1_1.resize(100, 100)        \n",
    "        self.label1_1.move(110,40)\n",
    "        \n",
    "        self.btn_1 = QPushButton(\"난수발생\", self)\n",
    "        self.btn_1.setFont(QtGui.QFont('SansSerif', 35))\n",
    "        self.btn_1.resize(200, 50) \n",
    "        self.btn_1.move(50,180)\n",
    "        \n",
    "        self.editStart = QLineEdit(\"\", self) #Default 값        \n",
    "        self.editEnd = QLineEdit(\"\", self) #Default 값        \n",
    "        self.editStart.move(50,230)\n",
    "        self.editEnd.move(150,230)\n",
    "        \n",
    "        #상태바\n",
    "        self.statusBar = QStatusBar(self)\n",
    "        self.setStatusBar(self.statusBar)        \n",
    "        \n",
    "        self.btn_1.clicked.connect(self.btn_1_clicked)\n",
    "        \n",
    "    def btn_1_clicked(self):\n",
    "        try:            \n",
    "            start = int(self.editStart.text())\n",
    "            end = int(self.editEnd.text())\n",
    "            number = random.randint(start, end)        \n",
    "            self.label1_1.setText(str(number))\n",
    "            #self.label1_1.show()            \n",
    "            self.statusBar.showMessage(\"생성이 완료되었습니다.\")\n",
    "            #self.show()\n",
    "            self.repaint()\n",
    "        except:\n",
    "            QMessageBox.about(self, \"message\", \"숫자를 제대로 입력해주세요.\")  \n",
    "\n",
    "app = QApplication(sys.argv)\n",
    "mywindow = MyWindow()\n",
    "mywindow.show()\n",
    "app.exec_()"
   ]
  },
  {
   "cell_type": "code",
   "execution_count": null,
   "metadata": {},
   "outputs": [],
   "source": []
  }
 ],
 "metadata": {
  "kernelspec": {
   "display_name": "Python 3",
   "language": "python",
   "name": "python3"
  },
  "language_info": {
   "codemirror_mode": {
    "name": "ipython",
    "version": 3
   },
   "file_extension": ".py",
   "mimetype": "text/x-python",
   "name": "python",
   "nbconvert_exporter": "python",
   "pygments_lexer": "ipython3",
   "version": "3.7.1"
  }
 },
 "nbformat": 4,
 "nbformat_minor": 2
}
