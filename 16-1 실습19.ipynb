{
 "cells": [
  {
   "cell_type": "code",
   "execution_count": 11,
   "metadata": {},
   "outputs": [],
   "source": [
    "class Car:\n",
    "    \n",
    "    count = 0\n",
    "    \n",
    "    @staticmethod\n",
    "    def getCount():\n",
    "        print(\"총 등록된 차량개수 : \", Car.count)\n",
    "    \n",
    "    def __init__(self, name,cc,year):\n",
    "        self.__name = name\n",
    "        self.__cc = cc\n",
    "        self.__year = year\n",
    "        Car.count += 1        \n",
    "    \n",
    "    def changeName(self, name):\n",
    "        self.__name = name\n",
    "        print(self.__name)\n",
    "    \n",
    "    def getKind(self):\n",
    "        if self.__cc < 1000:\n",
    "            print(\"소형차\")\n",
    "        elif 1000 <= self.__cc <= 2000:\n",
    "            print(\"중형차\")\n",
    "        else:\n",
    "            print(\"대형차\")"
   ]
  },
  {
   "cell_type": "code",
   "execution_count": 12,
   "metadata": {},
   "outputs": [
    {
     "name": "stdout",
     "output_type": "stream",
     "text": [
      "ccc\n",
      "소형차\n",
      "중형차\n",
      "총 등록된 차량개수 :  2\n"
     ]
    }
   ],
   "source": [
    "car1 = Car('aaa',500,1986)\n",
    "car2 = Car('bbb',1500,1986)\n",
    "\n",
    "car1.changeName('ccc')\n",
    "car1.getKind()\n",
    "car2.getKind()\n",
    "Car.getCount()"
   ]
  }
 ],
 "metadata": {
  "kernelspec": {
   "display_name": "Python 3",
   "language": "python",
   "name": "python3"
  },
  "language_info": {
   "codemirror_mode": {
    "name": "ipython",
    "version": 3
   },
   "file_extension": ".py",
   "mimetype": "text/x-python",
   "name": "python",
   "nbconvert_exporter": "python",
   "pygments_lexer": "ipython3",
   "version": "3.7.1"
  }
 },
 "nbformat": 4,
 "nbformat_minor": 2
}
