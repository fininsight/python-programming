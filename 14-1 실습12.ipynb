{
 "cells": [
  {
   "cell_type": "code",
   "execution_count": 21,
   "metadata": {},
   "outputs": [
    {
     "name": "stdout",
     "output_type": "stream",
     "text": [
      "information\n",
      "fantastic\n",
      "activity\n",
      "homeroom\n",
      "importance\n",
      "gossip\n",
      "dictionary\n",
      "artist\n",
      "grade\n",
      "useful\n",
      "allow\n",
      "website\n",
      "communicate\n"
     ]
    }
   ],
   "source": [
    "texts = []\n",
    "\n",
    "with open(\"14-1-12.txt\", \"r\") as file:\n",
    "    text = None\n",
    "    while text != \"\":\n",
    "        text = file.readline()\n",
    "        texts.append(text)\n",
    "\n",
    "for text in texts:\n",
    "    if len(text) > 5:\n",
    "        print(text.replace(\"\\n\",\"\"))\n"
   ]
  }
 ],
 "metadata": {
  "kernelspec": {
   "display_name": "Python 3",
   "language": "python",
   "name": "python3"
  },
  "language_info": {
   "codemirror_mode": {
    "name": "ipython",
    "version": 3
   },
   "file_extension": ".py",
   "mimetype": "text/x-python",
   "name": "python",
   "nbconvert_exporter": "python",
   "pygments_lexer": "ipython3",
   "version": "3.7.1"
  }
 },
 "nbformat": 4,
 "nbformat_minor": 2
}
