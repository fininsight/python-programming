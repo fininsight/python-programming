{
 "cells": [
  {
   "cell_type": "code",
   "execution_count": 3,
   "metadata": {},
   "outputs": [
    {
     "name": "stdout",
     "output_type": "stream",
     "text": [
      "x 값을 입력해주세요 : 20\n",
      "y 값을 입력해주세요 : 30\n",
      "50\n"
     ]
    }
   ],
   "source": [
    "x = input(\"x 값을 입력해주세요 : \")\n",
    "y = input(\"y 값을 입력해주세요 : \")\n",
    "\n",
    "print(int(x) + int(y))"
   ]
  }
 ],
 "metadata": {
  "kernelspec": {
   "display_name": "Python 3",
   "language": "python",
   "name": "python3"
  },
  "language_info": {
   "codemirror_mode": {
    "name": "ipython",
    "version": 3
   },
   "file_extension": ".py",
   "mimetype": "text/x-python",
   "name": "python",
   "nbconvert_exporter": "python",
   "pygments_lexer": "ipython3",
   "version": "3.7.1"
  }
 },
 "nbformat": 4,
 "nbformat_minor": 2
}
