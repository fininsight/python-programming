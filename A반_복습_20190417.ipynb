{
 "cells": [
  {
   "cell_type": "markdown",
   "metadata": {},
   "source": [
    "### 사용자로부터 이름, 수학점수, 영어점수, 과학점수 총 5명의 점수를 입력받아 리스트 딕셔너리 자료형을 만들고 각각 이름과 점수합계를 구해 출력하기\n",
    "ex) 이진범 : 80점\n",
    "      이민호 : 75점\n",
    "        .\n",
    "        .\n"
   ]
  },
  {
   "cell_type": "code",
   "execution_count": 10,
   "metadata": {},
   "outputs": [
    {
     "name": "stdout",
     "output_type": "stream",
     "text": [
      "이름홍길동\n",
      "수학점수10\n",
      "영어점수20\n",
      "과학점수40\n",
      "이름김철수\n",
      "수학점수20\n",
      "영어점수40\n",
      "과학점수50\n",
      "이름이계인\n",
      "수학점수20\n",
      "영어점수30\n",
      "과학점수50\n",
      "이름이진범\n",
      "수학점수40\n",
      "영어점수50\n",
      "과학점수20\n",
      "이름김영수\n",
      "수학점수30\n",
      "영어점수50\n",
      "과학점수10\n",
      "홍길동  :  70\n",
      "김철수  :  110\n",
      "이계인  :  100\n",
      "이진범  :  110\n",
      "김영수  :  90\n"
     ]
    }
   ],
   "source": [
    "students = []\n",
    "\n",
    "for i in range(5):\n",
    "    name = input(\"이름\")\n",
    "    math = int(input(\"수학점수\"))\n",
    "    english = int(input(\"영어점수\"))\n",
    "    science = int(input(\"과학점수\"))\n",
    "    students.append({\"name\":name, \"math\":math, \"english\":english, \"science\":science})\n",
    "    \n",
    "for student in students:\n",
    "    print(student[\"name\"], \" : \", student[\"math\"] + student[\"english\"] + student[\"science\"])\n",
    "    \n"
   ]
  },
  {
   "cell_type": "markdown",
   "metadata": {},
   "source": [
    "### 사용자로부터 숫자 x, y를 입력받아 x부터 y단 까지의 구구단을 출력하세요"
   ]
  },
  {
   "cell_type": "code",
   "execution_count": 15,
   "metadata": {},
   "outputs": [
    {
     "name": "stdout",
     "output_type": "stream",
     "text": [
      "2\n",
      "5\n",
      "2 5\n",
      "2 * 2 = 4\n",
      "2 * 3 = 5\n",
      "2 * 4 = 6\n",
      "2 * 5 = 7\n",
      "2 * 6 = 8\n",
      "2 * 7 = 9\n",
      "2 * 8 = 10\n",
      "2 * 9 = 11\n",
      "3 * 2 = 5\n",
      "3 * 3 = 6\n",
      "3 * 4 = 7\n",
      "3 * 5 = 8\n",
      "3 * 6 = 9\n",
      "3 * 7 = 10\n",
      "3 * 8 = 11\n",
      "3 * 9 = 12\n",
      "4 * 2 = 6\n",
      "4 * 3 = 7\n",
      "4 * 4 = 8\n",
      "4 * 5 = 9\n",
      "4 * 6 = 10\n",
      "4 * 7 = 11\n",
      "4 * 8 = 12\n",
      "4 * 9 = 13\n",
      "5 * 2 = 7\n",
      "5 * 3 = 8\n",
      "5 * 4 = 9\n",
      "5 * 5 = 10\n",
      "5 * 6 = 11\n",
      "5 * 7 = 12\n",
      "5 * 8 = 13\n",
      "5 * 9 = 14\n"
     ]
    }
   ],
   "source": [
    "x = int(input())\n",
    "y = int(input())\n",
    "print(x, y)\n",
    "\n",
    "for i in range(x, y+1):\n",
    "    for j in range(2, 10):\n",
    "        print(\"{} * {} = {}\".format(i,j,i+j))"
   ]
  },
  {
   "cell_type": "markdown",
   "metadata": {},
   "source": [
    "### x = [1, 4, 3, 2, 6, 7, 8, 2, 4, 8, 9] 리스트를 선언하고내용중 4보다 큰 값은 곱하기 2 해주세요"
   ]
  },
  {
   "cell_type": "code",
   "execution_count": 16,
   "metadata": {},
   "outputs": [
    {
     "data": {
      "text/plain": [
       "[1, 4, 3, 2, 12, 14, 16, 2, 4, 16, 18]"
      ]
     },
     "execution_count": 16,
     "metadata": {},
     "output_type": "execute_result"
    }
   ],
   "source": [
    "x = [1, 4, 3, 2, 6, 7, 8, 2, 4, 8, 9]\n",
    "\n",
    "for i in range(len(x)):\n",
    "    if x[i] > 4:\n",
    "        x[i] = x[i] * 2\n",
    "\n",
    "x"
   ]
  },
  {
   "cell_type": "code",
   "execution_count": null,
   "metadata": {},
   "outputs": [],
   "source": []
  }
 ],
 "metadata": {
  "kernelspec": {
   "display_name": "Python 3",
   "language": "python",
   "name": "python3"
  },
  "language_info": {
   "codemirror_mode": {
    "name": "ipython",
    "version": 3
   },
   "file_extension": ".py",
   "mimetype": "text/x-python",
   "name": "python",
   "nbconvert_exporter": "python",
   "pygments_lexer": "ipython3",
   "version": "3.7.1"
  }
 },
 "nbformat": 4,
 "nbformat_minor": 2
}
