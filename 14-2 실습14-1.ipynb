{
 "cells": [
  {
   "cell_type": "code",
   "execution_count": null,
   "metadata": {},
   "outputs": [
    {
     "name": "stdout",
     "output_type": "stream",
     "text": [
      "메뉴를 선택해주세요 1 - 입력, 2 - 조회, 3 - 삭제, 0 - 종료) : 2\n",
      "[0] 이름 : aaa, 수학 : 12, 과학 : 32, 영어 : 13\n",
      "[1] 이름 : bbb, 수학 : 1, 과학 : 2, 영어 : 3\n",
      "[2] 이름 : ffffff, 수학 : 33, 과학 : 33, 영어 : 33\n",
      "[3] 이름 : ggggg, 수학 : 99, 과학 : 99, 영어 : 99\n",
      "[4] 이름 : 이진범, 수학 : 30, 과학 : 20, 영어 : 10\n",
      "[5] 이름 : 홍길동, 수학 : 11, 과학 : 11, 영어 : 11\n"
     ]
    }
   ],
   "source": [
    "import pymysql\n",
    "\n",
    "db = pymysql.connect(host=\"52.141.37.15\", port=3306, user=\"employees\", passwd=\"employees\", db=\"employees\", charset=\"utf8\")\n",
    "\n",
    "select_sql = \"\"\"\n",
    "    SELECT *\n",
    "      FROM ljb2\n",
    "\"\"\"\n",
    "\n",
    "cursor = db.cursor()\n",
    "\n",
    "while True:\n",
    "    user = input(\"메뉴를 선택해주세요 1 - 입력, 2 - 조회, 3 - 삭제, 0 - 종료) : \")\n",
    "    \n",
    "    if user == \"1\":\n",
    "        \n",
    "        name = input(\"이름 : \")\n",
    "        math = int(input(\"수학 : \"))\n",
    "        science = int(input(\"과학 : \"))\n",
    "        english = int(input(\"영어 : \"))\n",
    "        \n",
    "        sql = \"\"\"\n",
    "            INSERT INTO ljb2 VALUES('{}',{},{},{})\n",
    "        \"\"\".format(name, math, science, english)\n",
    "        \n",
    "        cursor.execute(sql)\n",
    "        db.commit()\n",
    "        \n",
    "        #sdatas.append({\"name\": name, \"math\": math, \"science\": science, \"english\": english})        \n",
    "    \n",
    "    elif user == \"2\":\n",
    "        \n",
    "        cursor.execute(select_sql)\n",
    "        rs = cursor.fetchall() \n",
    "        \n",
    "        for idx, sdata in enumerate(rs):\n",
    "            print( \"[%d] 이름 : %s, 수학 : %d, 과학 : %d, 영어 : %d\" % (idx, sdata[0], sdata[1], sdata[2], sdata[3]))        \n",
    "    \n",
    "    elif user == \"3\":\n",
    "        \n",
    "        cursor.execute(select_sql)\n",
    "        rs = cursor.fetchall() \n",
    "        \n",
    "        for idx, sdata in enumerate(rs):\n",
    "            print( \"[%d] 이름 : %s, 수학 : %d, 과학 : %d, 영어 : %d\" % (idx, sdata[0], sdata[1], sdata[2], sdata[3]))        \n",
    "            \n",
    "        dele = int(input(\"삭제할 번호를 입력해주세요 : \"))        \n",
    "        \n",
    "        sql = \"\"\"\n",
    "            DELETE FROM ljb2\n",
    "            WHERE name = '{}'\n",
    "        \"\"\".format(rs[dele][0])\n",
    "        \n",
    "        cursor.execute(sql)\n",
    "        db.commit()\n",
    "        \n",
    "        print(\"삭제가 완료되었습니다.\")\n",
    "                \n",
    "    else:\n",
    "        break\n",
    "    \n",
    "print(\"종료되었습니다\")"
   ]
  },
  {
   "cell_type": "code",
   "execution_count": null,
   "metadata": {},
   "outputs": [],
   "source": []
  }
 ],
 "metadata": {
  "kernelspec": {
   "display_name": "Python 3",
   "language": "python",
   "name": "python3"
  },
  "language_info": {
   "codemirror_mode": {
    "name": "ipython",
    "version": 3
   },
   "file_extension": ".py",
   "mimetype": "text/x-python",
   "name": "python",
   "nbconvert_exporter": "python",
   "pygments_lexer": "ipython3",
   "version": "3.7.1"
  }
 },
 "nbformat": 4,
 "nbformat_minor": 2
}
