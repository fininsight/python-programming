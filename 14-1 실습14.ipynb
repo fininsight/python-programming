{
 "cells": [
  {
   "cell_type": "raw",
   "metadata": {},
   "source": [
    "import pickle\n",
    "\n",
    "sdatas = []\n",
    "\n",
    "with open('sdata.p', 'wb') as file: #data.p 파일을 바이너리 쓰기모드로 열기\n",
    "    pickle.dump(sdatas, file)"
   ]
  },
  {
   "cell_type": "code",
   "execution_count": 18,
   "metadata": {},
   "outputs": [
    {
     "name": "stdout",
     "output_type": "stream",
     "text": [
      "메뉴를 선택해주세요 1 - 입력, 2 - 조회, 3 - 삭제, 0 - 종료) : 1\n",
      "이름 : 이진범\n",
      "수학 : 30\n",
      "과학 : 40\n",
      "영어 : 50\n",
      "메뉴를 선택해주세요 1 - 입력, 2 - 조회, 3 - 삭제, 0 - 종료) : 1\n",
      "이름 : 이민호\n",
      "수학 : 40\n",
      "과학 : 50\n",
      "영어 : 30\n",
      "메뉴를 선택해주세요 1 - 입력, 2 - 조회, 3 - 삭제, 0 - 종료) : 2\n",
      "[0] 이름 : rrr, 수학 : 3, 과학 : 2, 영어 : 1\n",
      "[1] 이름 : ddd, 수학 : 1, 과학 : 2, 영어 : 3\n",
      "[2] 이름 : 이진범, 수학 : 30, 과학 : 40, 영어 : 50\n",
      "[3] 이름 : 이민호, 수학 : 40, 과학 : 50, 영어 : 30\n",
      "메뉴를 선택해주세요 1 - 입력, 2 - 조회, 3 - 삭제, 0 - 종료) : 3\n",
      "[0] 이름 : rrr, 수학 : 3, 과학 : 2, 영어 : 1\n",
      "[1] 이름 : ddd, 수학 : 1, 과학 : 2, 영어 : 3\n",
      "[2] 이름 : 이진범, 수학 : 30, 과학 : 40, 영어 : 50\n",
      "[3] 이름 : 이민호, 수학 : 40, 과학 : 50, 영어 : 30\n",
      "삭제할 번호를 입력해주세요 : 0\n",
      "삭제가 완료되었습니다.\n",
      "메뉴를 선택해주세요 1 - 입력, 2 - 조회, 3 - 삭제, 0 - 종료) : 0\n",
      "종료되었습니다\n"
     ]
    }
   ],
   "source": [
    "import pickle\n",
    "\n",
    "sdatas = []\n",
    "\n",
    "with open('sdata.p', 'rb') as file: #data.p 파일을 바이너리 쓰기모드로 열기\n",
    "    sdatas = pickle.load(file)\n",
    "\n",
    "while True:\n",
    "    user = input(\"메뉴를 선택해주세요 1 - 입력, 2 - 조회, 3 - 삭제, 0 - 종료) : \")\n",
    "    \n",
    "    if user == \"1\":\n",
    "        \n",
    "        name = input(\"이름 : \")\n",
    "        math = int(input(\"수학 : \"))\n",
    "        science = int(input(\"과학 : \"))\n",
    "        english = int(input(\"영어 : \"))\n",
    "        \n",
    "        sdatas.append({\"name\": name, \"math\": math, \"science\": science, \"english\": english})        \n",
    "    \n",
    "    elif user == \"2\":\n",
    "        \n",
    "        for idx, sdata in enumerate(sdatas):\n",
    "            print( \"[%d] 이름 : %s, 수학 : %d, 과학 : %d, 영어 : %d\" % (idx, sdata[\"name\"], sdata[\"math\"], sdata[\"science\"], sdata[\"english\"]))\n",
    "    \n",
    "    elif user == \"3\":\n",
    "        \n",
    "        for idx, sdata in enumerate(sdatas):\n",
    "            print( \"[%d] 이름 : %s, 수학 : %d, 과학 : %d, 영어 : %d\" % (idx, sdata[\"name\"], sdata[\"math\"], sdata[\"science\"], sdata[\"english\"]))\n",
    "            \n",
    "        dele = int(input(\"삭제할 번호를 입력해주세요 : \"))        \n",
    "        sdatas.pop(dele)\n",
    "        print(\"삭제가 완료되었습니다.\")\n",
    "                \n",
    "    else:\n",
    "        break\n",
    "\n",
    "with open('sdata.p', 'wb') as file: #data.p 파일을 바이너리 쓰기모드로 열기\n",
    "    pickle.dump(sdatas, file)\n",
    "    \n",
    "print(\"종료되었습니다\")"
   ]
  },
  {
   "cell_type": "code",
   "execution_count": null,
   "metadata": {},
   "outputs": [],
   "source": []
  }
 ],
 "metadata": {
  "kernelspec": {
   "display_name": "Python 3",
   "language": "python",
   "name": "python3"
  },
  "language_info": {
   "codemirror_mode": {
    "name": "ipython",
    "version": 3
   },
   "file_extension": ".py",
   "mimetype": "text/x-python",
   "name": "python",
   "nbconvert_exporter": "python",
   "pygments_lexer": "ipython3",
   "version": "3.7.1"
  }
 },
 "nbformat": 4,
 "nbformat_minor": 2
}
