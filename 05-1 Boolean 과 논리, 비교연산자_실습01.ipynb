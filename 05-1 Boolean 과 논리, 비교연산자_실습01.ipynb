{
 "cells": [
  {
   "cell_type": "code",
   "execution_count": 17,
   "metadata": {},
   "outputs": [
    {
     "name": "stdout",
     "output_type": "stream",
     "text": [
      "첫번째 점수 : 80\n",
      "두번째 점수 : 90\n",
      "세번째 점수 : 100\n",
      "True\n"
     ]
    }
   ],
   "source": [
    "a = input(\"첫번째 점수 : \")\n",
    "b = input(\"두번째 점수 : \")\n",
    "c = input(\"세번째 점수 : \")\n",
    "\n",
    "print(int(a) > 65 and int(b) > 65 and int(c) > 65)"
   ]
  },
  {
   "cell_type": "code",
   "execution_count": null,
   "metadata": {},
   "outputs": [],
   "source": []
  }
 ],
 "metadata": {
  "kernelspec": {
   "display_name": "Python 3",
   "language": "python",
   "name": "python3"
  },
  "language_info": {
   "codemirror_mode": {
    "name": "ipython",
    "version": 3
   },
   "file_extension": ".py",
   "mimetype": "text/x-python",
   "name": "python",
   "nbconvert_exporter": "python",
   "pygments_lexer": "ipython3",
   "version": "3.7.1"
  }
 },
 "nbformat": 4,
 "nbformat_minor": 2
}
