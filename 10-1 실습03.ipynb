{
 "cells": [
  {
   "cell_type": "code",
   "execution_count": 15,
   "metadata": {},
   "outputs": [
    {
     "name": "stdout",
     "output_type": "stream",
     "text": [
      "첫번째 점수 : -20\n",
      "두번째 점수 : 30\n",
      "세번째 점수 : 102\n",
      "잘못된 점수가 입력되었습니다\n"
     ]
    }
   ],
   "source": [
    "a = input(\"첫번째 점수 : \")\n",
    "b = input(\"두번째 점수 : \")\n",
    "c = input(\"세번째 점수 : \")\n",
    "\n",
    "if (not(0<=int(a)<=100) or not(0<=int(b)<=100) or not(0<=int(c)<=100)):\n",
    "    print(\"잘못된 점수가 입력되었습니다\")\n",
    "elif (int(a) > 65 and int(b) > 65 and int(c) > 65):\n",
    "    print(\"합격\")\n",
    "else:\n",
    "    print(\"불합격\")"
   ]
  },
  {
   "cell_type": "code",
   "execution_count": null,
   "metadata": {},
   "outputs": [],
   "source": []
  }
 ],
 "metadata": {
  "kernelspec": {
   "display_name": "Python 3",
   "language": "python",
   "name": "python3"
  },
  "language_info": {
   "codemirror_mode": {
    "name": "ipython",
    "version": 3
   },
   "file_extension": ".py",
   "mimetype": "text/x-python",
   "name": "python",
   "nbconvert_exporter": "python",
   "pygments_lexer": "ipython3",
   "version": "3.7.1"
  }
 },
 "nbformat": 4,
 "nbformat_minor": 2
}
