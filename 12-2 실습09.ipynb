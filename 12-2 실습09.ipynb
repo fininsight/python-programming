{
 "cells": [
  {
   "cell_type": "code",
   "execution_count": 12,
   "metadata": {},
   "outputs": [
    {
     "data": {
      "text/plain": [
       "[[20, 60], [120, 200], [300, 420]]"
      ]
     },
     "execution_count": 12,
     "metadata": {},
     "output_type": "execute_result"
    }
   ],
   "source": [
    "a = [[10, 20], [30, 40], [50, 60]]\n",
    "b = [[2, 3], [4, 5], [6, 7]]\n",
    "c = []\n",
    "\n",
    "for i in range(0, 3):\n",
    "    newlist = []\n",
    "    for j in range(0, 2):\n",
    "        newlist.append(a[i][j] * b[i][j])\n",
    "    c.append(newlist)\n",
    "\n",
    "c"
   ]
  },
  {
   "cell_type": "code",
   "execution_count": 18,
   "metadata": {},
   "outputs": [
    {
     "name": "stdout",
     "output_type": "stream",
     "text": [
      "a 의 0 0 번째 : 1\n",
      "a 의 0 1 번째 : 1\n",
      "a 의 1 0 번째 : 1\n",
      "a 의 1 1 번째 : 1\n",
      "a 의 2 0 번째 : 1\n",
      "a 의 2 1 번째 : 1\n",
      "b 의 0 0 번째 : 2\n",
      "b 의 0 1 번째 : 2\n",
      "b 의 1 0 번째 : 2\n",
      "b 의 1 1 번째 : 2\n",
      "b 의 2 0 번째 : 2\n",
      "b 의 2 1 번째 : 2\n"
     ]
    },
    {
     "data": {
      "text/plain": [
       "[[2, 2], [2, 2], [2, 2]]"
      ]
     },
     "execution_count": 18,
     "metadata": {},
     "output_type": "execute_result"
    }
   ],
   "source": [
    "a = []\n",
    "b = []\n",
    "c = []\n",
    "\n",
    "for i in range(0, 3):\n",
    "    newlist = []\n",
    "    for j in range(0, 2):\n",
    "        newlist.append(int(input(\"a 의 %d %d 번째 : \" % (i, j))))\n",
    "    a.append(newlist)\n",
    "    \n",
    "for i in range(0, 3):\n",
    "    newlist = []\n",
    "    for j in range(0, 2):\n",
    "        newlist.append(int(input(\"b 의 %d %d 번째 : \" % (i, j))))\n",
    "    b.append(newlist)\n",
    "    \n",
    "for i in range(0, 3):\n",
    "    newlist = []\n",
    "    for j in range(0, 2):\n",
    "        newlist.append(a[i][j] * b[i][j])\n",
    "    c.append(newlist)\n",
    "    \n",
    "c"
   ]
  }
 ],
 "metadata": {
  "kernelspec": {
   "display_name": "Python 3",
   "language": "python",
   "name": "python3"
  },
  "language_info": {
   "codemirror_mode": {
    "name": "ipython",
    "version": 3
   },
   "file_extension": ".py",
   "mimetype": "text/x-python",
   "name": "python",
   "nbconvert_exporter": "python",
   "pygments_lexer": "ipython3",
   "version": "3.7.1"
  }
 },
 "nbformat": 4,
 "nbformat_minor": 2
}
