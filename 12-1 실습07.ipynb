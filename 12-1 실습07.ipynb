{
 "cells": [
  {
   "cell_type": "code",
   "execution_count": 19,
   "metadata": {},
   "outputs": [
    {
     "name": "stdout",
     "output_type": "stream",
     "text": [
      "값을 입력해주세요50\n",
      "값을 입력해주세요40\n",
      "값을 입력해주세요30\n",
      "값을 입력해주세요20\n",
      "값을 입력해주세요B\n",
      "합계는 ?  140\n"
     ]
    }
   ],
   "source": [
    "i = 0\n",
    "numbers = 0\n",
    "\n",
    "while str(i).lower() != \"b\":\n",
    "    numbers += int(i)\n",
    "    i = input(\"값을 입력해주세요\")\n",
    "\n",
    "print(\"합계는 ? \", numbers)"
   ]
  },
  {
   "cell_type": "code",
   "execution_count": null,
   "metadata": {},
   "outputs": [],
   "source": []
  }
 ],
 "metadata": {
  "kernelspec": {
   "display_name": "Python 3",
   "language": "python",
   "name": "python3"
  },
  "language_info": {
   "codemirror_mode": {
    "name": "ipython",
    "version": 3
   },
   "file_extension": ".py",
   "mimetype": "text/x-python",
   "name": "python",
   "nbconvert_exporter": "python",
   "pygments_lexer": "ipython3",
   "version": "3.7.1"
  }
 },
 "nbformat": 4,
 "nbformat_minor": 2
}
