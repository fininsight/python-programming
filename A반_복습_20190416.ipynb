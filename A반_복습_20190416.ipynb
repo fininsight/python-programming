{
 "cells": [
  {
   "cell_type": "markdown",
   "metadata": {},
   "source": [
    "### 사용자로부터 총 5개의 값을 입력받아 리스트에 넣고 생성한 리스트에서 첫번째 세번째 값을 삭제"
   ]
  },
  {
   "cell_type": "code",
   "execution_count": 3,
   "metadata": {},
   "outputs": [
    {
     "name": "stdout",
     "output_type": "stream",
     "text": [
      "1\n",
      "2\n",
      "3\n",
      "4\n",
      "5\n"
     ]
    },
    {
     "data": {
      "text/plain": [
       "['2', '4', '5']"
      ]
     },
     "execution_count": 3,
     "metadata": {},
     "output_type": "execute_result"
    }
   ],
   "source": [
    "a = []\n",
    "a.append(input())\n",
    "a.append(input())\n",
    "a.append(input())\n",
    "a.append(input())\n",
    "a.append(input())\n",
    "a.pop(0)\n",
    "a.pop(1)\n",
    "a"
   ]
  },
  {
   "cell_type": "markdown",
   "metadata": {},
   "source": [
    "### 사용자로부터 아이디, 이름, 패스워드, 주소를 입력받아 딕셔너리를 생성하세요"
   ]
  },
  {
   "cell_type": "code",
   "execution_count": 7,
   "metadata": {},
   "outputs": [
    {
     "name": "stdout",
     "output_type": "stream",
     "text": [
      "아이디a\n",
      "이름a\n",
      "패스워드a\n",
      "주소a\n"
     ]
    },
    {
     "data": {
      "text/plain": [
       "{'id': 'a', 'name': 'a', 'password': 'a', 'addr': 'a'}"
      ]
     },
     "execution_count": 7,
     "metadata": {},
     "output_type": "execute_result"
    }
   ],
   "source": [
    "id1 = input(\"아이디\")\n",
    "name1 = input(\"이름\")\n",
    "password1 = input(\"패스워드\")\n",
    "addr1 = input(\"주소\")\n",
    "\n",
    "{\"id\":id1, \"name\":name1, \"password\":password1, \"addr\":addr1}"
   ]
  },
  {
   "cell_type": "markdown",
   "metadata": {},
   "source": [
    "### 두명의 사용자로부터 각각 아이디, 이름, 패스웓, 주소를 입력받아 두개의 딕셔너리를 생성하고 생성한 딕셔너리로 리스트를 생성하세요"
   ]
  },
  {
   "cell_type": "code",
   "execution_count": 5,
   "metadata": {},
   "outputs": [
    {
     "name": "stdout",
     "output_type": "stream",
     "text": [
      "아이디a\n",
      "이름a\n",
      "패스워드a\n",
      "주소a\n",
      "아이디b\n",
      "이름b\n",
      "패스워드b\n",
      "주소b\n"
     ]
    },
    {
     "data": {
      "text/plain": [
       "[{'id': 'a', 'name': 'a', 'password': 'a', 'addr': 'a'},\n",
       " {'id': 'b', 'name': 'b', 'password': 'b', 'addr': 'b'}]"
      ]
     },
     "execution_count": 5,
     "metadata": {},
     "output_type": "execute_result"
    }
   ],
   "source": [
    "lis = []\n",
    "\n",
    "id1 = input(\"아이디\")\n",
    "name1 = input(\"이름\")\n",
    "password1 = input(\"패스워드\")\n",
    "addr1 = input(\"주소\")\n",
    "\n",
    "lis.append({\"id\":id1, \"name\":name1, \"password\":password1, \"addr\":addr1})\n",
    "\n",
    "id1 = input(\"아이디\")\n",
    "name1 = input(\"이름\")\n",
    "password1 = input(\"패스워드\")\n",
    "addr1 = input(\"주소\")\n",
    "\n",
    "lis.append({\"id\":id1, \"name\":name1, \"password\":password1, \"addr\":addr1})\n",
    "\n",
    "lis"
   ]
  },
  {
   "cell_type": "markdown",
   "metadata": {},
   "source": [
    "### 사용자로부터 값 두개를 입력받아 더한뒤 출력하세요 "
   ]
  },
  {
   "cell_type": "code",
   "execution_count": 9,
   "metadata": {},
   "outputs": [
    {
     "name": "stdout",
     "output_type": "stream",
     "text": [
      "1\n",
      "2\n"
     ]
    },
    {
     "data": {
      "text/plain": [
       "3"
      ]
     },
     "execution_count": 9,
     "metadata": {},
     "output_type": "execute_result"
    }
   ],
   "source": [
    "x = int(input())\n",
    "y = int(input())\n",
    "\n",
    "x+y"
   ]
  }
 ],
 "metadata": {
  "kernelspec": {
   "display_name": "Python 3",
   "language": "python",
   "name": "python3"
  },
  "language_info": {
   "codemirror_mode": {
    "name": "ipython",
    "version": 3
   },
   "file_extension": ".py",
   "mimetype": "text/x-python",
   "name": "python",
   "nbconvert_exporter": "python",
   "pygments_lexer": "ipython3",
   "version": "3.7.1"
  }
 },
 "nbformat": 4,
 "nbformat_minor": 2
}
