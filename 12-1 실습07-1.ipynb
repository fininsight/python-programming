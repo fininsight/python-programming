{
 "cells": [
  {
   "cell_type": "code",
   "execution_count": 2,
   "metadata": {},
   "outputs": [
    {
     "data": {
      "text/plain": [
       "0.36565394262897444"
      ]
     },
     "execution_count": 2,
     "metadata": {},
     "output_type": "execute_result"
    }
   ],
   "source": [
    "import random #random 모듈 가져오기\n",
    "random.random()"
   ]
  },
  {
   "cell_type": "code",
   "execution_count": 3,
   "metadata": {},
   "outputs": [
    {
     "data": {
      "text/plain": [
       "3"
      ]
     },
     "execution_count": 3,
     "metadata": {},
     "output_type": "execute_result"
    }
   ],
   "source": [
    "random.randint(1, 3)"
   ]
  },
  {
   "cell_type": "code",
   "execution_count": 4,
   "metadata": {},
   "outputs": [
    {
     "name": "stdout",
     "output_type": "stream",
     "text": [
      "가위(1), 바위(2), 보(3) 을 입력해주세요! : 3\n",
      "유저 : 보, 컴퓨터 : 가위\n",
      "가위(1), 바위(2), 보(3) 을 입력해주세요! : 2\n",
      "유저 : 바위, 컴퓨터 : 바위\n",
      "가위(1), 바위(2), 보(3) 을 입력해주세요! : 3\n",
      "유저 : 보, 컴퓨터 : 보\n",
      "가위(1), 바위(2), 보(3) 을 입력해주세요! : 4\n",
      "게임종료 (전체:3 ,승리:0)\n"
     ]
    }
   ],
   "source": [
    "user = 0\n",
    "total = 0\n",
    "win = 0\n",
    "word = [\"가위\", \"바위\", \"보\"]\n",
    "\n",
    "#while user==1 and user==2 and user==3:\n",
    "\n",
    "user = int(input(\"가위(1), 바위(2), 보(3) 을 입력해주세요! : \"))\n",
    "computer = random.randint(1, 3)\n",
    "\n",
    "while user in [1, 2, 3]:\n",
    "    \n",
    "    print(\"유저 : %s, 컴퓨터 : %s\" % (word[user - 1], word[computer - 1]) )\n",
    "    user = int(input(\"가위(1), 바위(2), 보(3) 을 입력해주세요! : \"))\n",
    "    computer = random.randint(1, 3)\n",
    "    \n",
    "    if(user==1 and computer==3):\n",
    "        win += 1\n",
    "    elif(user==2 and computer==1):\n",
    "        win += 1\n",
    "    elif(user==3 and computer==2):\n",
    "        win += 1\n",
    "        \n",
    "    total +=1\n",
    "\n",
    "print(\"게임종료 (전체:{} ,승리:{})\".format(total, win))    "
   ]
  }
 ],
 "metadata": {
  "kernelspec": {
   "display_name": "Python 3",
   "language": "python",
   "name": "python3"
  },
  "language_info": {
   "codemirror_mode": {
    "name": "ipython",
    "version": 3
   },
   "file_extension": ".py",
   "mimetype": "text/x-python",
   "name": "python",
   "nbconvert_exporter": "python",
   "pygments_lexer": "ipython3",
   "version": "3.7.1"
  }
 },
 "nbformat": 4,
 "nbformat_minor": 2
}
