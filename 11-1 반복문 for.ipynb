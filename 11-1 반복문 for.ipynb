{
 "cells": [
  {
   "cell_type": "markdown",
   "metadata": {},
   "source": [
    "# 반복문 for"
   ]
  },
  {
   "cell_type": "code",
   "execution_count": 2,
   "metadata": {},
   "outputs": [
    {
     "name": "stdout",
     "output_type": "stream",
     "text": [
      "현재값 :  0\n",
      "현재값 :  1\n",
      "현재값 :  2\n",
      "현재값 :  3\n",
      "현재값 :  4\n",
      "현재값 :  5\n",
      "현재값 :  6\n",
      "현재값 :  7\n",
      "현재값 :  8\n",
      "현재값 :  9\n"
     ]
    }
   ],
   "source": [
    "for i in range(0, 10):\n",
    "    print(\"현재값 : \", i)"
   ]
  },
  {
   "cell_type": "markdown",
   "metadata": {},
   "source": [
    "### for문과 range()"
   ]
  },
  {
   "cell_type": "code",
   "execution_count": 3,
   "metadata": {},
   "outputs": [
    {
     "name": "stdout",
     "output_type": "stream",
     "text": [
      "0\n",
      "2\n",
      "4\n",
      "6\n",
      "8\n"
     ]
    }
   ],
   "source": [
    "for i in range(0, 10, 2):\n",
    "    print(i)"
   ]
  },
  {
   "cell_type": "code",
   "execution_count": 7,
   "metadata": {},
   "outputs": [
    {
     "name": "stdout",
     "output_type": "stream",
     "text": [
      "10\n",
      "9\n",
      "8\n",
      "7\n",
      "6\n",
      "5\n",
      "4\n",
      "3\n",
      "2\n",
      "1\n"
     ]
    }
   ],
   "source": [
    "for i in range(10, 0, -1):\n",
    "    print(i)"
   ]
  },
  {
   "cell_type": "markdown",
   "metadata": {},
   "source": [
    "### for문과 시퀀스객체"
   ]
  },
  {
   "cell_type": "code",
   "execution_count": 9,
   "metadata": {},
   "outputs": [
    {
     "name": "stdout",
     "output_type": "stream",
     "text": [
      "1\n",
      "2\n",
      "3\n",
      "4\n",
      "5\n",
      "6\n",
      "7\n"
     ]
    }
   ],
   "source": [
    "a = [1, 2, 3, 4, 5, 6, 7]\n",
    "for i in a:\n",
    "    print(i)"
   ]
  },
  {
   "cell_type": "code",
   "execution_count": 12,
   "metadata": {},
   "outputs": [
    {
     "name": "stdout",
     "output_type": "stream",
     "text": [
      "Orange"
     ]
    }
   ],
   "source": [
    "for i in \"Orange\":\n",
    "    print(i, end = \"\")"
   ]
  },
  {
   "cell_type": "code",
   "execution_count": 24,
   "metadata": {},
   "outputs": [
    {
     "name": "stdout",
     "output_type": "stream",
     "text": [
      "name tom\n",
      "math 80\n",
      "english 70\n"
     ]
    }
   ],
   "source": [
    "a = {\"name\": \"tom\", \"math\": 80, \"english\": 70}\n",
    "for i in a:\n",
    "    print(i, end = \" \")\n",
    "    print(a[i])    "
   ]
  },
  {
   "cell_type": "markdown",
   "metadata": {},
   "source": [
    "### for문 중첩"
   ]
  },
  {
   "cell_type": "code",
   "execution_count": 28,
   "metadata": {},
   "outputs": [
    {
     "name": "stdout",
     "output_type": "stream",
     "text": [
      "********************* 0\n",
      "j :  0\n",
      "j :  2\n",
      "j :  4\n",
      "j :  6\n",
      "j :  8\n",
      "********************* 2\n",
      "j :  0\n",
      "j :  2\n",
      "j :  4\n",
      "j :  6\n",
      "j :  8\n",
      "********************* 4\n",
      "j :  0\n",
      "j :  2\n",
      "j :  4\n",
      "j :  6\n",
      "j :  8\n",
      "********************* 6\n",
      "j :  0\n",
      "j :  2\n",
      "j :  4\n",
      "j :  6\n",
      "j :  8\n",
      "********************* 8\n",
      "j :  0\n",
      "j :  2\n",
      "j :  4\n",
      "j :  6\n",
      "j :  8\n"
     ]
    }
   ],
   "source": [
    "for i in range(0, 10, 2):\n",
    "    print(\"*********************\", i)\n",
    "    for j in range(0, 10, 2):\n",
    "        print(\"j : \", j)"
   ]
  },
  {
   "cell_type": "code",
   "execution_count": null,
   "metadata": {},
   "outputs": [],
   "source": []
  }
 ],
 "metadata": {
  "kernelspec": {
   "display_name": "Python 3",
   "language": "python",
   "name": "python3"
  },
  "language_info": {
   "codemirror_mode": {
    "name": "ipython",
    "version": 3
   },
   "file_extension": ".py",
   "mimetype": "text/x-python",
   "name": "python",
   "nbconvert_exporter": "python",
   "pygments_lexer": "ipython3",
   "version": "3.7.1"
  }
 },
 "nbformat": 4,
 "nbformat_minor": 2
}
