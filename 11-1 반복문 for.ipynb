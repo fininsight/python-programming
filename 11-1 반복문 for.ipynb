{
 "cells": [
  {
   "cell_type": "markdown",
   "metadata": {},
   "source": [
    "# 반복문 for"
   ]
  },
  {
   "cell_type": "code",
   "execution_count": 2,
   "metadata": {},
   "outputs": [
    {
     "name": "stdout",
     "output_type": "stream",
     "text": [
      "현재값 :  0\n",
      "현재값 :  1\n",
      "현재값 :  2\n",
      "현재값 :  3\n",
      "현재값 :  4\n",
      "현재값 :  5\n",
      "현재값 :  6\n",
      "현재값 :  7\n",
      "현재값 :  8\n",
      "현재값 :  9\n"
     ]
    }
   ],
   "source": [
    "for i in range(0, 10):\n",
    "    print(\"현재값 : \", i)"
   ]
  },
  {
   "cell_type": "markdown",
   "metadata": {},
   "source": [
    "### for문과 range()"
   ]
  },
  {
   "cell_type": "code",
   "execution_count": 3,
   "metadata": {},
   "outputs": [
    {
     "name": "stdout",
     "output_type": "stream",
     "text": [
      "0\n",
      "2\n",
      "4\n",
      "6\n",
      "8\n"
     ]
    }
   ],
   "source": [
    "for i in range(0, 10, 2):\n",
    "    print(i)"
   ]
  },
  {
   "cell_type": "code",
   "execution_count": 7,
   "metadata": {},
   "outputs": [
    {
     "name": "stdout",
     "output_type": "stream",
     "text": [
      "10\n",
      "9\n",
      "8\n",
      "7\n",
      "6\n",
      "5\n",
      "4\n",
      "3\n",
      "2\n",
      "1\n"
     ]
    }
   ],
   "source": [
    "for i in range(10, 0, -1):\n",
    "    print(i)"
   ]
  },
  {
   "cell_type": "markdown",
   "metadata": {},
   "source": [
    "### for문과 시퀀스객체"
   ]
  },
  {
   "cell_type": "code",
   "execution_count": 9,
   "metadata": {},
   "outputs": [
    {
     "name": "stdout",
     "output_type": "stream",
     "text": [
      "1\n",
      "2\n",
      "3\n",
      "4\n",
      "5\n",
      "6\n",
      "7\n"
     ]
    }
   ],
   "source": [
    "a = [1, 2, 3, 4, 5, 6, 7]\n",
    "for i in a:\n",
    "    print(i)"
   ]
  },
  {
   "cell_type": "code",
   "execution_count": 12,
   "metadata": {},
   "outputs": [
    {
     "name": "stdout",
     "output_type": "stream",
     "text": [
      "Orange"
     ]
    }
   ],
   "source": [
    "for i in \"Orange\":\n",
    "    print(i, end = \"\")"
   ]
  },
  {
   "cell_type": "code",
   "execution_count": 3,
   "metadata": {},
   "outputs": [
    {
     "name": "stdout",
     "output_type": "stream",
     "text": [
      "name tom\n",
      "math 80\n",
      "english 70\n"
     ]
    }
   ],
   "source": [
    "a = {\"name\": \"tom\", \"math\": 80, \"english\": 70}\n",
    "for i in a:\n",
    "    print(i, end = \" \")\n",
    "    print(a[i])    "
   ]
  },
  {
   "cell_type": "markdown",
   "metadata": {},
   "source": [
    "### 입력한 횟수만큼 반복하기"
   ]
  },
  {
   "cell_type": "code",
   "execution_count": 5,
   "metadata": {
    "scrolled": false
   },
   "outputs": [
    {
     "name": "stdout",
     "output_type": "stream",
     "text": [
      "반복할 횟수?30\n",
      "hello, world! 0\n",
      "hello, world! 1\n",
      "hello, world! 2\n",
      "hello, world! 3\n",
      "hello, world! 4\n",
      "hello, world! 5\n",
      "hello, world! 6\n",
      "hello, world! 7\n",
      "hello, world! 8\n",
      "hello, world! 9\n",
      "hello, world! 10\n",
      "hello, world! 11\n",
      "hello, world! 12\n",
      "hello, world! 13\n",
      "hello, world! 14\n",
      "hello, world! 15\n",
      "hello, world! 16\n",
      "hello, world! 17\n",
      "hello, world! 18\n",
      "hello, world! 19\n",
      "hello, world! 20\n",
      "hello, world! 21\n",
      "hello, world! 22\n",
      "hello, world! 23\n",
      "hello, world! 24\n",
      "hello, world! 25\n",
      "hello, world! 26\n",
      "hello, world! 27\n",
      "hello, world! 28\n",
      "hello, world! 29\n"
     ]
    }
   ],
   "source": [
    "count = int(input(\"반복할 횟수?\"))\n",
    "for i in range(count):\n",
    "    print(\"hello, world!\", i)"
   ]
  },
  {
   "cell_type": "markdown",
   "metadata": {},
   "source": [
    "### enumerate 사용하여 index 접근"
   ]
  },
  {
   "cell_type": "code",
   "execution_count": 11,
   "metadata": {},
   "outputs": [
    {
     "name": "stdout",
     "output_type": "stream",
     "text": [
      "0, 1\n",
      "1\n",
      "1, 2\n",
      "2\n",
      "2, 3\n",
      "3\n",
      "3, 4\n",
      "4\n",
      "4, 5\n",
      "5\n",
      "5, 6\n",
      "6\n",
      "6, 7\n",
      "7\n"
     ]
    }
   ],
   "source": [
    "a = [1, 2, 3, 4, 5, 6, 7]\n",
    "for idx, val in enumerate(a):\n",
    "    print(idx, val, sep=\", \")\n",
    "    print(a[idx])"
   ]
  },
  {
   "cell_type": "markdown",
   "metadata": {},
   "source": [
    "### for문 중첩"
   ]
  },
  {
   "cell_type": "code",
   "execution_count": 28,
   "metadata": {},
   "outputs": [
    {
     "name": "stdout",
     "output_type": "stream",
     "text": [
      "********************* 0\n",
      "j :  0\n",
      "j :  2\n",
      "j :  4\n",
      "j :  6\n",
      "j :  8\n",
      "********************* 2\n",
      "j :  0\n",
      "j :  2\n",
      "j :  4\n",
      "j :  6\n",
      "j :  8\n",
      "********************* 4\n",
      "j :  0\n",
      "j :  2\n",
      "j :  4\n",
      "j :  6\n",
      "j :  8\n",
      "********************* 6\n",
      "j :  0\n",
      "j :  2\n",
      "j :  4\n",
      "j :  6\n",
      "j :  8\n",
      "********************* 8\n",
      "j :  0\n",
      "j :  2\n",
      "j :  4\n",
      "j :  6\n",
      "j :  8\n"
     ]
    }
   ],
   "source": [
    "for i in range(0, 10, 2):\n",
    "    print(\"*********************\", i)\n",
    "    for j in range(0, 10, 2):\n",
    "        print(\"j : \", j)"
   ]
  },
  {
   "cell_type": "code",
   "execution_count": null,
   "metadata": {},
   "outputs": [],
   "source": []
  }
 ],
 "metadata": {
  "kernelspec": {
   "display_name": "Python 3",
   "language": "python",
   "name": "python3"
  },
  "language_info": {
   "codemirror_mode": {
    "name": "ipython",
    "version": 3
   },
   "file_extension": ".py",
   "mimetype": "text/x-python",
   "name": "python",
   "nbconvert_exporter": "python",
   "pygments_lexer": "ipython3",
   "version": "3.7.1"
  }
 },
 "nbformat": 4,
 "nbformat_minor": 2
}
